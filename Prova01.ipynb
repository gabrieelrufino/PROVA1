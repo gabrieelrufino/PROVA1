{
 "cells": [
  {
   "cell_type": "markdown",
   "id": "ffd6b76f-6326-4f9b-af76-32c468fd860a",
   "metadata": {},
   "source": [
    "Você deve receber (=) 3 valores inteiros (int) positivos e deve retornar a média aritmética dos maiores valores."
   ]
  },
  {
   "cell_type": "code",
   "execution_count": 33,
   "id": "afebcd6f-d3aa-4355-b0f4-e74368bd1e76",
   "metadata": {},
   "outputs": [
    {
     "name": "stdin",
     "output_type": "stream",
     "text": [
      "Insira um número inteiro positivo: 1\n",
      "Insira um número inteiro positivo: 5\n",
      "Insira um número inteiro positivo: 5\n"
     ]
    },
    {
     "name": "stdout",
     "output_type": "stream",
     "text": [
      "5.0\n"
     ]
    }
   ],
   "source": [
    "#As 3 variáveis inteiras:\n",
    "num1 = int(input(\"Insira um número inteiro positivo:\"))\n",
    "num2 = int(input(\"Insira um número inteiro positivo:\"))\n",
    "num3 = int(input(\"Insira um número inteiro positivo:\"))\n",
    "\n",
    "#Calcular a média aritmética dos dois maiores:\n",
    "if num1 and num2 > num3:\n",
    "    media = (num1 + num2) / 2\n",
    "    print(media)\n",
    "elif num1 and num3 > num2:\n",
    "    media = (num1 + num3) / 2\n",
    "    print(media)\n",
    "elif num2 and num3 > num1:\n",
    "    media = (num2 + num3) / 2\n",
    "    print(media)\n",
    "else:\n",
    "    print(\"Refaça\")"
   ]
  },
  {
   "cell_type": "code",
   "execution_count": null,
   "id": "678120c2-b084-4ba6-ac75-260f594e652a",
   "metadata": {},
   "outputs": [],
   "source": []
  }
 ],
 "metadata": {
  "kernelspec": {
   "display_name": "Python [conda env:base] *",
   "language": "python",
   "name": "conda-base-py"
  },
  "language_info": {
   "codemirror_mode": {
    "name": "ipython",
    "version": 3
   },
   "file_extension": ".py",
   "mimetype": "text/x-python",
   "name": "python",
   "nbconvert_exporter": "python",
   "pygments_lexer": "ipython3",
   "version": "3.12.7"
  }
 },
 "nbformat": 4,
 "nbformat_minor": 5
}
